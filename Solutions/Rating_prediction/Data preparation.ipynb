{
 "cells": [
  {
   "cell_type": "code",
   "execution_count": 1,
   "metadata": {},
   "outputs": [],
   "source": [
    "from sklearn.feature_extraction.text import TfidfVectorizer\n",
    "from catboost import CatBoostRegressor\n",
    "import pandas as pd\n",
    "import numpy as np\n",
    "from matplotlib import pyplot as plt\n",
    "from sklearn.model_selection import train_test_split"
   ]
  },
  {
   "cell_type": "code",
   "execution_count": 2,
   "metadata": {},
   "outputs": [],
   "source": [
    "data = pd.read_csv('./Amazon_Unlocked_Mobile.csv')"
   ]
  },
  {
   "cell_type": "code",
   "execution_count": 3,
   "metadata": {},
   "outputs": [
    {
     "data": {
      "text/plain": [
       "1.5482158148665002"
      ]
     },
     "execution_count": 3,
     "metadata": {},
     "output_type": "execute_result"
    }
   ],
   "source": [
    "data['Rating'].std()"
   ]
  },
  {
   "cell_type": "code",
   "execution_count": 4,
   "metadata": {},
   "outputs": [],
   "source": [
    "data_train, data_test = train_test_split(data, test_size=0.25)"
   ]
  },
  {
   "cell_type": "code",
   "execution_count": 5,
   "metadata": {},
   "outputs": [
    {
     "data": {
      "text/html": [
       "<div>\n",
       "<style scoped>\n",
       "    .dataframe tbody tr th:only-of-type {\n",
       "        vertical-align: middle;\n",
       "    }\n",
       "\n",
       "    .dataframe tbody tr th {\n",
       "        vertical-align: top;\n",
       "    }\n",
       "\n",
       "    .dataframe thead th {\n",
       "        text-align: right;\n",
       "    }\n",
       "</style>\n",
       "<table border=\"1\" class=\"dataframe\">\n",
       "  <thead>\n",
       "    <tr style=\"text-align: right;\">\n",
       "      <th></th>\n",
       "      <th>Product Name</th>\n",
       "      <th>Brand Name</th>\n",
       "      <th>Price</th>\n",
       "      <th>Rating</th>\n",
       "      <th>Reviews</th>\n",
       "      <th>Review Votes</th>\n",
       "    </tr>\n",
       "  </thead>\n",
       "  <tbody>\n",
       "    <tr>\n",
       "      <th>33234</th>\n",
       "      <td>Apple iPhone 5c 32GB (Yellow) - AT&amp;T</td>\n",
       "      <td>Apple</td>\n",
       "      <td>224.77</td>\n",
       "      <td>3</td>\n",
       "      <td>had to return was not unlocked</td>\n",
       "      <td>0.0</td>\n",
       "    </tr>\n",
       "    <tr>\n",
       "      <th>263376</th>\n",
       "      <td>Nokia C3-00 Unlocked Cell Phone (Slate) with Q...</td>\n",
       "      <td>Nokia</td>\n",
       "      <td>49.99</td>\n",
       "      <td>5</td>\n",
       "      <td>my contract gonna end next summer, so I need a...</td>\n",
       "      <td>5.0</td>\n",
       "    </tr>\n",
       "    <tr>\n",
       "      <th>277119</th>\n",
       "      <td>Nokia N73 Unlocked Genuine Smart Music Mobile ...</td>\n",
       "      <td>Nokia</td>\n",
       "      <td>151.44</td>\n",
       "      <td>1</td>\n",
       "      <td>It never booited up taught it was the battery ...</td>\n",
       "      <td>0.0</td>\n",
       "    </tr>\n",
       "    <tr>\n",
       "      <th>411077</th>\n",
       "      <td>X-shop 5.5-inch Unlocked White Lenovo A850 3g ...</td>\n",
       "      <td>NaN</td>\n",
       "      <td>119.99</td>\n",
       "      <td>4</td>\n",
       "      <td>There are a problem, the menu on the PC is in ...</td>\n",
       "      <td>NaN</td>\n",
       "    </tr>\n",
       "    <tr>\n",
       "      <th>130845</th>\n",
       "      <td>BLU PURE XL Smartphone - 4G LTE GSM Unlocked -...</td>\n",
       "      <td>BLU</td>\n",
       "      <td>134.95</td>\n",
       "      <td>4</td>\n",
       "      <td>Worth every penny. Great picture quality. Snap...</td>\n",
       "      <td>1.0</td>\n",
       "    </tr>\n",
       "    <tr>\n",
       "      <th>...</th>\n",
       "      <td>...</td>\n",
       "      <td>...</td>\n",
       "      <td>...</td>\n",
       "      <td>...</td>\n",
       "      <td>...</td>\n",
       "      <td>...</td>\n",
       "    </tr>\n",
       "    <tr>\n",
       "      <th>333887</th>\n",
       "      <td>Samsung Galaxy S Duos II GT-S7582 Factory Unlo...</td>\n",
       "      <td>NaN</td>\n",
       "      <td>280.00</td>\n",
       "      <td>5</td>\n",
       "      <td>Nice cellphone, came with everything.</td>\n",
       "      <td>0.0</td>\n",
       "    </tr>\n",
       "    <tr>\n",
       "      <th>110053</th>\n",
       "      <td>BLU Dash JR 4.0 K Smartphone - Unlocked - Blue</td>\n",
       "      <td>BLU</td>\n",
       "      <td>99.99</td>\n",
       "      <td>4</td>\n",
       "      <td>muy bueno</td>\n",
       "      <td>0.0</td>\n",
       "    </tr>\n",
       "    <tr>\n",
       "      <th>203671</th>\n",
       "      <td>Huawei U8833/Y300 Android 4.1 Dual Core 1.0GHz...</td>\n",
       "      <td>NaN</td>\n",
       "      <td>99.00</td>\n",
       "      <td>5</td>\n",
       "      <td>cool</td>\n",
       "      <td>0.0</td>\n",
       "    </tr>\n",
       "    <tr>\n",
       "      <th>350160</th>\n",
       "      <td>Samsung Galaxy S5 Mini G800F 16GB 4G LTE Unloc...</td>\n",
       "      <td>NaN</td>\n",
       "      <td>299.00</td>\n",
       "      <td>5</td>\n",
       "      <td>Great phone</td>\n",
       "      <td>0.0</td>\n",
       "    </tr>\n",
       "    <tr>\n",
       "      <th>125978</th>\n",
       "      <td>BLU Life 8 XL Smartphone - Unlocked - US GSM -...</td>\n",
       "      <td>BLU</td>\n",
       "      <td>101.91</td>\n",
       "      <td>5</td>\n",
       "      <td>This phone is great</td>\n",
       "      <td>0.0</td>\n",
       "    </tr>\n",
       "  </tbody>\n",
       "</table>\n",
       "<p>310380 rows × 6 columns</p>\n",
       "</div>"
      ],
      "text/plain": [
       "                                             Product Name Brand Name   Price  \\\n",
       "33234                Apple iPhone 5c 32GB (Yellow) - AT&T      Apple  224.77   \n",
       "263376  Nokia C3-00 Unlocked Cell Phone (Slate) with Q...      Nokia   49.99   \n",
       "277119  Nokia N73 Unlocked Genuine Smart Music Mobile ...      Nokia  151.44   \n",
       "411077  X-shop 5.5-inch Unlocked White Lenovo A850 3g ...        NaN  119.99   \n",
       "130845  BLU PURE XL Smartphone - 4G LTE GSM Unlocked -...        BLU  134.95   \n",
       "...                                                   ...        ...     ...   \n",
       "333887  Samsung Galaxy S Duos II GT-S7582 Factory Unlo...        NaN  280.00   \n",
       "110053     BLU Dash JR 4.0 K Smartphone - Unlocked - Blue        BLU   99.99   \n",
       "203671  Huawei U8833/Y300 Android 4.1 Dual Core 1.0GHz...        NaN   99.00   \n",
       "350160  Samsung Galaxy S5 Mini G800F 16GB 4G LTE Unloc...        NaN  299.00   \n",
       "125978  BLU Life 8 XL Smartphone - Unlocked - US GSM -...        BLU  101.91   \n",
       "\n",
       "        Rating                                            Reviews  \\\n",
       "33234        3                     had to return was not unlocked   \n",
       "263376       5  my contract gonna end next summer, so I need a...   \n",
       "277119       1  It never booited up taught it was the battery ...   \n",
       "411077       4  There are a problem, the menu on the PC is in ...   \n",
       "130845       4  Worth every penny. Great picture quality. Snap...   \n",
       "...        ...                                                ...   \n",
       "333887       5              Nice cellphone, came with everything.   \n",
       "110053       4                                          muy bueno   \n",
       "203671       5                                               cool   \n",
       "350160       5                                        Great phone   \n",
       "125978       5                                This phone is great   \n",
       "\n",
       "        Review Votes  \n",
       "33234            0.0  \n",
       "263376           5.0  \n",
       "277119           0.0  \n",
       "411077           NaN  \n",
       "130845           1.0  \n",
       "...              ...  \n",
       "333887           0.0  \n",
       "110053           0.0  \n",
       "203671           0.0  \n",
       "350160           0.0  \n",
       "125978           0.0  \n",
       "\n",
       "[310380 rows x 6 columns]"
      ]
     },
     "execution_count": 5,
     "metadata": {},
     "output_type": "execute_result"
    }
   ],
   "source": [
    "data_train"
   ]
  },
  {
   "cell_type": "markdown",
   "metadata": {},
   "source": [
    "# Basic data reformatting"
   ]
  },
  {
   "cell_type": "code",
   "execution_count": 6,
   "metadata": {},
   "outputs": [],
   "source": [
    "renamer = {\n",
    "    'Brand Name': 'Brand',\n",
    "    'Price': 'Price',\n",
    "    'Rating': 'Rating',\n",
    "    'Reviews': 'Review',\n",
    "    'Review Votes': 'Upvotes'\n",
    "}\n",
    "data_train = data_train[renamer.keys()].rename(columns=renamer)\n",
    "data_test = data_test[renamer.keys()].rename(columns=renamer)"
   ]
  },
  {
   "cell_type": "code",
   "execution_count": 7,
   "metadata": {},
   "outputs": [],
   "source": [
    "data_train.reset_index(drop=True, inplace=True)\n",
    "data_test.reset_index(drop=True, inplace=True)"
   ]
  },
  {
   "cell_type": "code",
   "execution_count": 8,
   "metadata": {},
   "outputs": [],
   "source": [
    "def price_rounder(price):\n",
    "    return (price // 5) * 5 + 5 * (price % 5 >= 2.5)\n",
    "data_train['Price'] = data_train['Price'].apply(price_rounder)\n",
    "data_test['Price'] = data_test['Price'].apply(price_rounder)"
   ]
  },
  {
   "cell_type": "code",
   "execution_count": 9,
   "metadata": {},
   "outputs": [
    {
     "data": {
      "text/html": [
       "<div>\n",
       "<style scoped>\n",
       "    .dataframe tbody tr th:only-of-type {\n",
       "        vertical-align: middle;\n",
       "    }\n",
       "\n",
       "    .dataframe tbody tr th {\n",
       "        vertical-align: top;\n",
       "    }\n",
       "\n",
       "    .dataframe thead th {\n",
       "        text-align: right;\n",
       "    }\n",
       "</style>\n",
       "<table border=\"1\" class=\"dataframe\">\n",
       "  <thead>\n",
       "    <tr style=\"text-align: right;\">\n",
       "      <th></th>\n",
       "      <th>Brand</th>\n",
       "      <th>Price</th>\n",
       "      <th>Rating</th>\n",
       "      <th>Review</th>\n",
       "      <th>Upvotes</th>\n",
       "    </tr>\n",
       "  </thead>\n",
       "  <tbody>\n",
       "    <tr>\n",
       "      <th>0</th>\n",
       "      <td>Apple</td>\n",
       "      <td>225.0</td>\n",
       "      <td>3</td>\n",
       "      <td>had to return was not unlocked</td>\n",
       "      <td>0.0</td>\n",
       "    </tr>\n",
       "    <tr>\n",
       "      <th>1</th>\n",
       "      <td>Nokia</td>\n",
       "      <td>50.0</td>\n",
       "      <td>5</td>\n",
       "      <td>my contract gonna end next summer, so I need a...</td>\n",
       "      <td>5.0</td>\n",
       "    </tr>\n",
       "    <tr>\n",
       "      <th>2</th>\n",
       "      <td>Nokia</td>\n",
       "      <td>150.0</td>\n",
       "      <td>1</td>\n",
       "      <td>It never booited up taught it was the battery ...</td>\n",
       "      <td>0.0</td>\n",
       "    </tr>\n",
       "    <tr>\n",
       "      <th>3</th>\n",
       "      <td>NaN</td>\n",
       "      <td>120.0</td>\n",
       "      <td>4</td>\n",
       "      <td>There are a problem, the menu on the PC is in ...</td>\n",
       "      <td>NaN</td>\n",
       "    </tr>\n",
       "    <tr>\n",
       "      <th>4</th>\n",
       "      <td>BLU</td>\n",
       "      <td>135.0</td>\n",
       "      <td>4</td>\n",
       "      <td>Worth every penny. Great picture quality. Snap...</td>\n",
       "      <td>1.0</td>\n",
       "    </tr>\n",
       "    <tr>\n",
       "      <th>...</th>\n",
       "      <td>...</td>\n",
       "      <td>...</td>\n",
       "      <td>...</td>\n",
       "      <td>...</td>\n",
       "      <td>...</td>\n",
       "    </tr>\n",
       "    <tr>\n",
       "      <th>310375</th>\n",
       "      <td>NaN</td>\n",
       "      <td>280.0</td>\n",
       "      <td>5</td>\n",
       "      <td>Nice cellphone, came with everything.</td>\n",
       "      <td>0.0</td>\n",
       "    </tr>\n",
       "    <tr>\n",
       "      <th>310376</th>\n",
       "      <td>BLU</td>\n",
       "      <td>100.0</td>\n",
       "      <td>4</td>\n",
       "      <td>muy bueno</td>\n",
       "      <td>0.0</td>\n",
       "    </tr>\n",
       "    <tr>\n",
       "      <th>310377</th>\n",
       "      <td>NaN</td>\n",
       "      <td>100.0</td>\n",
       "      <td>5</td>\n",
       "      <td>cool</td>\n",
       "      <td>0.0</td>\n",
       "    </tr>\n",
       "    <tr>\n",
       "      <th>310378</th>\n",
       "      <td>NaN</td>\n",
       "      <td>300.0</td>\n",
       "      <td>5</td>\n",
       "      <td>Great phone</td>\n",
       "      <td>0.0</td>\n",
       "    </tr>\n",
       "    <tr>\n",
       "      <th>310379</th>\n",
       "      <td>BLU</td>\n",
       "      <td>100.0</td>\n",
       "      <td>5</td>\n",
       "      <td>This phone is great</td>\n",
       "      <td>0.0</td>\n",
       "    </tr>\n",
       "  </tbody>\n",
       "</table>\n",
       "<p>310380 rows × 5 columns</p>\n",
       "</div>"
      ],
      "text/plain": [
       "        Brand  Price  Rating  \\\n",
       "0       Apple  225.0       3   \n",
       "1       Nokia   50.0       5   \n",
       "2       Nokia  150.0       1   \n",
       "3         NaN  120.0       4   \n",
       "4         BLU  135.0       4   \n",
       "...       ...    ...     ...   \n",
       "310375    NaN  280.0       5   \n",
       "310376    BLU  100.0       4   \n",
       "310377    NaN  100.0       5   \n",
       "310378    NaN  300.0       5   \n",
       "310379    BLU  100.0       5   \n",
       "\n",
       "                                                   Review  Upvotes  \n",
       "0                          had to return was not unlocked      0.0  \n",
       "1       my contract gonna end next summer, so I need a...      5.0  \n",
       "2       It never booited up taught it was the battery ...      0.0  \n",
       "3       There are a problem, the menu on the PC is in ...      NaN  \n",
       "4       Worth every penny. Great picture quality. Snap...      1.0  \n",
       "...                                                   ...      ...  \n",
       "310375              Nice cellphone, came with everything.      0.0  \n",
       "310376                                          muy bueno      0.0  \n",
       "310377                                               cool      0.0  \n",
       "310378                                        Great phone      0.0  \n",
       "310379                                This phone is great      0.0  \n",
       "\n",
       "[310380 rows x 5 columns]"
      ]
     },
     "execution_count": 9,
     "metadata": {},
     "output_type": "execute_result"
    }
   ],
   "source": [
    "data_train"
   ]
  },
  {
   "cell_type": "markdown",
   "metadata": {},
   "source": [
    "# EDA"
   ]
  },
  {
   "cell_type": "code",
   "execution_count": 10,
   "metadata": {},
   "outputs": [
    {
     "data": {
      "text/plain": [
       "Brand      48988\n",
       "Price       4481\n",
       "Rating         0\n",
       "Review        54\n",
       "Upvotes     9251\n",
       "dtype: int64"
      ]
     },
     "execution_count": 10,
     "metadata": {},
     "output_type": "execute_result"
    }
   ],
   "source": [
    "data_train.isna().sum()"
   ]
  },
  {
   "cell_type": "code",
   "execution_count": 11,
   "metadata": {},
   "outputs": [
    {
     "data": {
      "text/plain": [
       "Brand      16183\n",
       "Price       1452\n",
       "Rating         0\n",
       "Review         8\n",
       "Upvotes     3045\n",
       "dtype: int64"
      ]
     },
     "execution_count": 11,
     "metadata": {},
     "output_type": "execute_result"
    }
   ],
   "source": [
    "data_test.isna().sum()"
   ]
  },
  {
   "cell_type": "code",
   "execution_count": 12,
   "metadata": {},
   "outputs": [],
   "source": [
    "critical_columns = ['Rating', 'Review', 'Upvotes']\n",
    "data_train.dropna(subset=critical_columns, inplace=True)\n",
    "data_test.dropna(subset=critical_columns, inplace=True)"
   ]
  },
  {
   "cell_type": "code",
   "execution_count": 13,
   "metadata": {
    "scrolled": true
   },
   "outputs": [
    {
     "data": {
      "text/plain": [
       "Brand      47469\n",
       "Price       4338\n",
       "Rating         0\n",
       "Review         0\n",
       "Upvotes        0\n",
       "dtype: int64"
      ]
     },
     "execution_count": 13,
     "metadata": {},
     "output_type": "execute_result"
    }
   ],
   "source": [
    "data_train.isna().sum()"
   ]
  },
  {
   "cell_type": "code",
   "execution_count": 14,
   "metadata": {},
   "outputs": [
    {
     "data": {
      "text/plain": [
       "Brand      15696\n",
       "Price       1419\n",
       "Rating         0\n",
       "Review         0\n",
       "Upvotes        0\n",
       "dtype: int64"
      ]
     },
     "execution_count": 14,
     "metadata": {},
     "output_type": "execute_result"
    }
   ],
   "source": [
    "data_test.isna().sum()"
   ]
  },
  {
   "cell_type": "code",
   "execution_count": 15,
   "metadata": {},
   "outputs": [],
   "source": [
    "data_train.to_csv('./train.csv', index=False)\n",
    "data_test.drop(columns='Rating').to_csv('./test.csv', index=False)\n",
    "data_test['Rating'].to_csv('./answers.csv', index=False, header=False)\n",
    "(data_test['Rating']*0).to_csv('./sample_submission.csv', index=False, header=False)"
   ]
  },
  {
   "cell_type": "code",
   "execution_count": 16,
   "metadata": {},
   "outputs": [
    {
     "data": {
      "text/plain": [
       "0    2.387493\n",
       "dtype: float64"
      ]
     },
     "execution_count": 16,
     "metadata": {},
     "output_type": "execute_result"
    }
   ],
   "source": [
    "pd.read_csv('./answers.csv', header=None).std() ** 2"
   ]
  },
  {
   "cell_type": "code",
   "execution_count": null,
   "metadata": {},
   "outputs": [],
   "source": []
  }
 ],
 "metadata": {
  "kernelspec": {
   "display_name": "Python 3",
   "language": "python",
   "name": "python3"
  },
  "language_info": {
   "codemirror_mode": {
    "name": "ipython",
    "version": 3
   },
   "file_extension": ".py",
   "mimetype": "text/x-python",
   "name": "python",
   "nbconvert_exporter": "python",
   "pygments_lexer": "ipython3",
   "version": "3.7.4"
  }
 },
 "nbformat": 4,
 "nbformat_minor": 4
}
